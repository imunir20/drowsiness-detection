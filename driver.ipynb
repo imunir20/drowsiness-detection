{
 "cells": [
  {
   "cell_type": "code",
   "execution_count": 12,
   "id": "3256ce17",
   "metadata": {},
   "outputs": [],
   "source": [
    "import cv2\n",
    "import tensorflow as tf\n",
    "from tensorflow.keras.models import load_model\n",
    "import numpy as np\n",
    "from pygame import mixer"
   ]
  },
  {
   "cell_type": "code",
   "execution_count": 13,
   "id": "2298bf6f",
   "metadata": {},
   "outputs": [],
   "source": [
    "faceCascade = cv2.CascadeClassifier(cv2.data.haarcascades + 'haarcascade_frontalface_default.xml')\n",
    "eyeCascade = cv2.CascadeClassifier(cv2.data.haarcascades + 'haarcascade_eye.xml')\n",
    "model = load_model(r'C:\\Users\\imuni\\OneDrive\\Desktop\\GMU\\Classes\\CS\\CS499\\499FinalProject\\models\\model.h5')"
   ]
  },
  {
   "cell_type": "code",
   "execution_count": 49,
   "id": "4e1f0dec",
   "metadata": {},
   "outputs": [],
   "source": [
    "mixer.init()\n",
    "sound = mixer.Sound(r'C:\\Users\\imuni\\OneDrive\\Desktop\\GMU\\Classes\\CS\\CS499\\499FinalProject\\beep.wav')\n",
    "cap = cv2.VideoCapture(0)\n",
    "counter = 0\n",
    "soundOn = False\n",
    "\n",
    "while True:\n",
    "    ret, frame = cap.read()\n",
    "    height, width = frame.shape[0:2]\n",
    "    gray = cv2.cvtColor(frame, cv2.COLOR_BGR2GRAY)\n",
    "    faces = faceCascade.detectMultiScale(gray, scaleFactor=1.2, minNeighbors=3)\n",
    "    eyes = eyeCascade.detectMultiScale(gray, scaleFactor=1.1, minNeighbors=3)\n",
    "    \n",
    "    cv2.rectangle(frame, (0, height-50), (200, height), (0, 0, 0), thickness=cv2.FILLED)\n",
    "    \n",
    "    for (x, y, w, h) in faces:\n",
    "        cv2.rectangle(frame, pt1=(x, y), pt2=(x+w, y+h), color=(0, 255, 0), thickness=3)\n",
    "    \n",
    "    for (dx, dy, dw, dh) in eyes:\n",
    "        #cv2.rectangle(frame, pt1=(dx, dy), pt2=(dx+dw, dy+dh), color=(0, 255, 0), thickness=3)\n",
    "        \n",
    "        dEyes = frame[dy:dy+dh, dx:dx+dw]\n",
    "        dEyes = cv2.resize(dEyes, (80, 80))\n",
    "        dEyes = dEyes / 255\n",
    "        dEyes = dEyes.reshape(80, 80, 3)\n",
    "        dEyes = np.expand_dims(dEyes, axis=0)\n",
    "        pred = model.predict(dEyes)\n",
    "        #print(pred)\n",
    "        \n",
    "        if pred[0][0] > 0.45:\n",
    "            cv2.putText(frame, 'CLOSED', (10, height - 20), fontFace=cv2.FONT_HERSHEY_COMPLEX_SMALL, fontScale=1, \n",
    "                        color = (255, 255, 255), thickness=2, lineType=cv2.LINE_AA)\n",
    "            #cv2.putText(frame, 'Counter: ' + str(counter), (100, height - 20), fontFace=cv2.FONT_HERSHEY_COMPLEX_SMALL, fontScale=1, \n",
    "            #            color = (255, 255, 255), thickness=2, lineType=cv2.LINE_AA)\n",
    "            counter = counter + 1\n",
    "            #print('Closed')\n",
    "            if counter > 10:\n",
    "                try:\n",
    "                    sound.play()\n",
    "                except:\n",
    "                    pass\n",
    "\n",
    "        elif pred[0][1] > 0.9:\n",
    "            #print('Open')\n",
    "            cv2.putText(frame, 'OPEN', (10, height - 20), fontFace=cv2.FONT_HERSHEY_COMPLEX_SMALL, fontScale=1, \n",
    "                    color = (255, 255, 255), thickness=2, lineType=cv2.LINE_AA)\n",
    "            #cv2.putText(frame, 'Counter: ' + str(counter), (100, height - 20), fontFace=cv2.FONT_HERSHEY_COMPLEX_SMALL, fontScale=1, \n",
    "            #        color = (255, 255, 255), thickness=2, lineType=cv2.LINE_AA)            \n",
    "            counter = counter - 1\n",
    "            if counter < 0:\n",
    "                counter = 0\n",
    "        cv2.putText(frame, 'Counter: ' + str(counter), (100, height - 20), fontFace=cv2.FONT_HERSHEY_COMPLEX_SMALL, fontScale=1, \n",
    "                    color = (255, 255, 255), thickness=2, lineType=cv2.LINE_AA)\n",
    "\n",
    "    \n",
    "    cv2.imshow('Drowsiness Detection', frame)\n",
    "    if cv2.waitKey(30) & 0xFF == ord('q'):\n",
    "        break\n",
    "\n",
    "cap.release()\n",
    "cv2.destroyAllWindows()"
   ]
  },
  {
   "cell_type": "code",
   "execution_count": null,
   "id": "a319886b",
   "metadata": {},
   "outputs": [],
   "source": []
  }
 ],
 "metadata": {
  "kernelspec": {
   "display_name": "Python 3",
   "language": "python",
   "name": "python3"
  },
  "language_info": {
   "codemirror_mode": {
    "name": "ipython",
    "version": 3
   },
   "file_extension": ".py",
   "mimetype": "text/x-python",
   "name": "python",
   "nbconvert_exporter": "python",
   "pygments_lexer": "ipython3",
   "version": "3.8.8"
  }
 },
 "nbformat": 4,
 "nbformat_minor": 5
}
